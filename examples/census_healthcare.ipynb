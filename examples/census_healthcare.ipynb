{
 "cells": [
  {
   "cell_type": "markdown",
   "id": "23c114b7-6751-4192-9939-86d40967caba",
   "metadata": {},
   "source": [
    "# Relationship between income and private health insurance\n",
    "\n",
    "The goal is to investigate the quantitative effect of income on the procurement of private health insurance using US census data. The target of inference is the logistic regression coefficient when regressing the binary indicator of health insurance on income. The data from California in the year 2019 is downloaded through the Folktables interface (1). Predictions of health insurance are made by training a gradient boosting tree via XGBoost (2) on the previous year’s data.\n",
    "\n",
    "1. F. Ding, M. Hardt, J. Miller, L. Schmidt, “Retiring adult: New datasets for fair machine learning” in Advances in Neural Information Processing Systems 34 (2021), pp. 6478–6490.\n",
    "2. T. Chen, C. Guestrin, “XGBoost: A scalable tree boosting system” in Proceedings of the 22nd ACM SIGKDD International Conference on Knowledge Discovery and Data Mining (2016), pp. 785–794."
   ]
  },
  {
   "cell_type": "markdown",
   "id": "fa0b89de-40f4-4225-ba6f-f35428d8f648",
   "metadata": {},
   "source": [
    "### Import necessary packages"
   ]
  },
  {
   "cell_type": "code",
   "execution_count": 1,
   "id": "bec4524b-d6bd-4d3c-ac59-2d6b77ac8a21",
   "metadata": {},
   "outputs": [],
   "source": [
    "%load_ext autoreload\n",
    "%autoreload 2\n",
    "import os, sys\n",
    "\n",
    "sys.path.append(os.path.abspath(os.path.join(os.getcwd(), os.pardir)))\n",
    "import numpy as np\n",
    "import pandas as pd\n",
    "from ppi_py.datasets import load_dataset\n",
    "from ppi_py import ppi_logistic_ci, classical_logistic_ci\n",
    "from sklearn.linear_model import LogisticRegression\n",
    "from tqdm import tqdm\n",
    "from scipy.optimize import brentq\n",
    "from utils import *"
   ]
  },
  {
   "cell_type": "markdown",
   "id": "5cf90ae6",
   "metadata": {},
   "source": [
    "### Import the census healthcare data set\n",
    "\n",
    "Load the data. The data set contains reported indicators of health insurance (```Y```), predicted indicators of health insurance (```Yhat```), and reported income (```X```)."
   ]
  },
  {
   "cell_type": "code",
   "execution_count": 2,
   "id": "a6da3138",
   "metadata": {},
   "outputs": [],
   "source": [
    "dataset_folder = \"./data/\"\n",
    "data = load_dataset(dataset_folder, \"census_healthcare\")\n",
    "Y_total = data[\"Y\"]\n",
    "Yhat_total = data[\"Yhat\"]\n",
    "X_total = data[\"X\"]"
   ]
  },
  {
   "cell_type": "markdown",
   "id": "8969f9db",
   "metadata": {},
   "source": [
    "### Problem setup\n",
    "\n",
    "Specify the error level (```alpha```), range of values for the labeled data set size (```ns```), and number of trials (```num_trials```).\n",
    "\n",
    "Compute the ground-truth value of the estimand."
   ]
  },
  {
   "cell_type": "code",
   "execution_count": 3,
   "id": "5b3c8f29",
   "metadata": {},
   "outputs": [
    {
     "name": "stderr",
     "output_type": "stream",
     "text": [
      "/Users/angelopoulos/miniconda3/lib/python3.9/site-packages/sklearn/linear_model/_logistic.py:1183: FutureWarning: `penalty='none'`has been deprecated in 1.2 and will be removed in 1.4. To keep the past behaviour, set `penalty=None`.\n",
      "  warnings.warn(\n"
     ]
    }
   ],
   "source": [
    "alpha = 0.05\n",
    "coordinate = 0  # Choose between 0, 1\n",
    "n_total = Y_total.shape[0]  # Total number of labeled examples\n",
    "ns = np.array([500, 1000, 2000]).astype(\n",
    "    int\n",
    ")  # Test for different numbers of labeled ballots\n",
    "num_trials = 100\n",
    "optimizer_options = {\n",
    "    \"ftol\": 1e-5,\n",
    "    \"gtol\": 1e-5,\n",
    "    \"maxls\": 10000,\n",
    "    \"maxiter\": 10000,\n",
    "}\n",
    "# Compute ground truth\n",
    "true_theta = (\n",
    "    LogisticRegression(\n",
    "        penalty=\"none\",\n",
    "        solver=\"lbfgs\",\n",
    "        max_iter=10000,\n",
    "        tol=1e-15,\n",
    "        fit_intercept=False,\n",
    "    )\n",
    "    .fit(X_total, Y_total)\n",
    "    .coef_.squeeze()[coordinate]\n",
    ")"
   ]
  },
  {
   "cell_type": "markdown",
   "id": "83ce18be",
   "metadata": {},
   "source": [
    "### Construct intervals\n",
    "\n",
    "Form confidence intervals for all methods and problem parameters. A dataframe with the following columns is formed:\n",
    "1. ```method``` (one of ```PPI```, ```Classical```, and ```Imputation```)\n",
    "2. ```n``` (labeled data set size, takes values in ```ns```)\n",
    "3. ```lower``` (lower endpoint of the confidence interval)\n",
    "4. ```upper``` (upper endpoint of the confidence interval)\n",
    "5. ```trial``` (index of trial, goes from ```0``` to ```num_trials-1```)"
   ]
  },
  {
   "cell_type": "code",
   "execution_count": 4,
   "id": "812f8fd5",
   "metadata": {},
   "outputs": [
    {
     "name": "stderr",
     "output_type": "stream",
     "text": [
      "100%|██████████████████████████████████████████████████████████████████████████████████████████████████████████████████████████████████████████████████████████████████████████████████████████████████████████████| 100/100 [07:01<00:00,  4.22s/it]\n",
      "100%|██████████████████████████████████████████████████████████████████████████████████████████████████████████████████████████████████████████████████████████████████████████████████████████████████████████████| 100/100 [04:40<00:00,  2.81s/it]\n",
      "100%|██████████████████████████████████████████████████████████████████████████████████████████████████████████████████████████████████████████████████████████████████████████████████████████████████████████████| 100/100 [03:37<00:00,  2.17s/it]\n"
     ]
    }
   ],
   "source": [
    "# Run prediction-powered inference and classical inference for many values of n\n",
    "results = []\n",
    "for i in range(ns.shape[0]):\n",
    "    for j in tqdm(range(num_trials)):\n",
    "        # Prediction-Powered Inference\n",
    "        n = ns[i]\n",
    "        rand_idx = np.random.permutation(n_total)\n",
    "        _X, _X_unlabeled = X_total[rand_idx[:n]], X_total[rand_idx[n:]]\n",
    "        _Y, _Y_unlabeled = Y_total[rand_idx[:n]], Y_total[rand_idx[n:]]\n",
    "        _Yhat, _Yhat_unlabeled = (\n",
    "            Yhat_total[rand_idx[:n]],\n",
    "            Yhat_total[rand_idx[n:]],\n",
    "        )\n",
    "\n",
    "        ppi_ci = ppi_logistic_ci(\n",
    "            _X,\n",
    "            _Y,\n",
    "            _Yhat,\n",
    "            _X_unlabeled,\n",
    "            _Yhat_unlabeled,\n",
    "            alpha=alpha,\n",
    "            optimizer_options=optimizer_options,\n",
    "        )\n",
    "\n",
    "        # Classical interval\n",
    "        classical_ci = classical_logistic_ci(_X, _Y, alpha=alpha)\n",
    "\n",
    "        # Append results\n",
    "        results += [\n",
    "            pd.DataFrame(\n",
    "                [\n",
    "                    {\n",
    "                        \"method\": \"PPI\",\n",
    "                        \"n\": n,\n",
    "                        \"lower\": ppi_ci[0][coordinate],\n",
    "                        \"upper\": ppi_ci[1][coordinate],\n",
    "                        \"trial\": j,\n",
    "                    }\n",
    "                ]\n",
    "            )\n",
    "        ]\n",
    "        results += [\n",
    "            pd.DataFrame(\n",
    "                [\n",
    "                    {\n",
    "                        \"method\": \"Classical\",\n",
    "                        \"n\": n,\n",
    "                        \"lower\": classical_ci[0][coordinate],\n",
    "                        \"upper\": classical_ci[1][coordinate],\n",
    "                        \"trial\": j,\n",
    "                    }\n",
    "                ]\n",
    "            )\n",
    "        ]\n",
    "\n",
    "# Imputed CI\n",
    "imputed_ci = classical_logistic_ci(\n",
    "    X_total, (Yhat_total > 0.5).astype(int), alpha=alpha\n",
    ")\n",
    "results += [\n",
    "    pd.DataFrame(\n",
    "        [\n",
    "            {\n",
    "                \"method\": \"Imputation\",\n",
    "                \"n\": np.nan,\n",
    "                \"lower\": imputed_ci[0][coordinate],\n",
    "                \"upper\": imputed_ci[1][coordinate],\n",
    "                \"trial\": 0,\n",
    "            }\n",
    "        ]\n",
    "    )\n",
    "]\n",
    "\n",
    "df = pd.concat(results, axis=0, ignore_index=True)\n",
    "df[\"width\"] = df[\"upper\"] - df[\"lower\"]"
   ]
  },
  {
   "cell_type": "markdown",
   "id": "d15ba288",
   "metadata": {},
   "source": [
    "### Plot results\n",
    "\n",
    "Plot:\n",
    "1. Five randomly chosen intervals from the dataframe for PPI and the classical method, and the imputed interval;\n",
    "2. The average interval width for PPI and the classical method, together with a scatterplot of the widths from the five random draws."
   ]
  },
  {
   "cell_type": "code",
   "execution_count": 5,
   "id": "6077b2c4",
   "metadata": {},
   "outputs": [
    {
     "data": {
      "image/png": "[encoded data removed]",
      "text/plain": [
       "<Figure size 648x216 with 3 Axes>"
      ]
     },
     "metadata": {
      "needs_background": "light"
     },
     "output_type": "display_data"
    }
   ],
   "source": [
    "make_plots(\n",
    "    df,\n",
    "    \"./plots/census_healthcare.pdf\",\n",
    "    intervals_xlabel=\"Logistic coeff\",\n",
    "    n_idx=-1,\n",
    "    true_theta=true_theta,\n",
    ")"
   ]
  },
  {
   "cell_type": "markdown",
   "id": "2b114272-e293-4375-a5b8-0bf870857408",
   "metadata": {},
   "source": [
    "### Power experiment\n",
    "\n",
    "For PPI and the classical approach, find the smallest value of ```n``` such that the method has power 80% against the null $H_0: \\theta^* < 0.5 \\cdot 10^{-5}$."
   ]
  },
  {
   "cell_type": "code",
   "execution_count": 6,
   "id": "c4fd41f6",
   "metadata": {},
   "outputs": [],
   "source": [
    "# Find n such that we reject H0: Logistic coeff < 0.5*1e-5 with probability 80% using a test at level alpha\n",
    "num_experiments = 100\n",
    "list_rand_idx = [\n",
    "    np.random.permutation(n_total) for i in range(num_experiments)\n",
    "]\n",
    "\n",
    "\n",
    "def _to_invert_ppi(n):\n",
    "    # print(f\"PPI: {n}\")\n",
    "    n = int(n)\n",
    "    nulls_rejected = 0\n",
    "    # Data setup\n",
    "    for i in range(num_experiments):\n",
    "        # print(f\"PPI: {n}, {i}\")\n",
    "        rand_idx = list_rand_idx[i]\n",
    "        _X, _X_unlabeled = X_total[rand_idx[:n]], X_total[rand_idx[n:]]\n",
    "        _Y, _Y_unlabeled = Y_total[rand_idx[:n]], Y_total[rand_idx[n:]]\n",
    "        _Yhat, _Yhat_unlabeled = (\n",
    "            Yhat_total[rand_idx[:n]],\n",
    "            Yhat_total[rand_idx[n:]],\n",
    "        )\n",
    "\n",
    "        ppi_ci = ppi_logistic_ci(\n",
    "            _X,\n",
    "            _Y,\n",
    "            _Yhat,\n",
    "            _X_unlabeled,\n",
    "            _Yhat_unlabeled,\n",
    "            alpha=alpha,\n",
    "            optimizer_options=optimizer_options,\n",
    "        )\n",
    "        if ppi_ci[0][coordinate] > 1.5e-5:\n",
    "            nulls_rejected += 1\n",
    "    return nulls_rejected / num_experiments - 0.8\n",
    "\n",
    "\n",
    "def _to_invert_classical(n):\n",
    "    print(f\"Classical: {n}\")\n",
    "    n = int(n)\n",
    "    nulls_rejected = 0\n",
    "    # Data setup\n",
    "    for i in range(num_experiments):\n",
    "        rand_idx = list_rand_idx[i]\n",
    "        _X, _X_unlabeled = X_total[rand_idx[:n]], X_total[rand_idx[n:]]\n",
    "        _Y, _Y_unlabeled = Y_total[rand_idx[:n]], Y_total[rand_idx[n:]]\n",
    "        _Yhat, _Yhat_unlabeled = (\n",
    "            Yhat_total[rand_idx[:n]],\n",
    "            Yhat_total[rand_idx[n:]],\n",
    "        )\n",
    "\n",
    "        classical_ci = classical_logistic_ci(_X, _Y, alpha=alpha)\n",
    "        if classical_ci[0][coordinate] > 1.5e-5:\n",
    "            nulls_rejected += 1\n",
    "    return nulls_rejected / num_experiments - 0.8"
   ]
  },
  {
   "cell_type": "code",
   "execution_count": 7,
   "id": "8ca727f2",
   "metadata": {},
   "outputs": [
    {
     "name": "stdout",
     "output_type": "stream",
     "text": [
      "Classical: 150.0\n",
      "Classical: 20000.0\n",
      "Classical: 15216.867469879518\n",
      "Classical: 7683.433734939759\n",
      "Classical: 8079.93024730501\n",
      "Classical: 11648.398858592263\n",
      "Classical: 8555.72606214331\n",
      "The PPI test requires n=5741 labeled data points to reject the null.\n",
      "The classical test requires n=8555 labeled data points to reject the null.\n"
     ]
    }
   ],
   "source": [
    "n_ppi = int(brentq(_to_invert_ppi, 150, 15000, xtol=100))\n",
    "n_classical = int(brentq(_to_invert_classical, 150, 20000, xtol=100))\n",
    "print(\n",
    "    f\"The PPI test requires n={n_ppi} labeled data points to reject the null.\"\n",
    ")\n",
    "print(\n",
    "    f\"The classical test requires n={n_classical} labeled data points to reject the null.\"\n",
    ")"
   ]
  }
 ],
 "metadata": {
  "kernelspec": {
   "display_name": "Python 3 (ipykernel)",
   "language": "python",
   "name": "python3"
  },
  "language_info": {
   "codemirror_mode": {
    "name": "ipython",
    "version": 3
   },
   "file_extension": ".py",
   "mimetype": "text/x-python",
   "name": "python",
   "nbconvert_exporter": "python",
   "pygments_lexer": "ipython3",
   "version": "3.9.12"
  }
 },
 "nbformat": 4,
 "nbformat_minor": 5
}
