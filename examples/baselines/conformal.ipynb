{
 "cells": [
  {
   "cell_type": "markdown",
   "id": "1553bf32",
   "metadata": {},
   "source": [
    "# Comparison to Conformal Prediction\n",
    "\n",
    "The goal of this experiment is to compare prediction-powered inference and a version of conformal prediction (1) as a baseline. The baseline involves using the gold-standard data to construct conformal prediction sets with the residual score function at level $\\alpha/N$ for each unlabeled example. The lower- and upper- endpoints of these sets are averaged to produce a confidence interval for the mean. This confidence interval is guaranteed validity for arbitrary models and distributions. However, it is extremely conservative. An ablation is performed without a Bonferroni correction (i.e., sets were constructed at level $\\alpha$ instead of $\\alpha/N$), but this remains conservative and does not provide an improvement over the classical intervals.\n",
    "\n",
    "The inferential goal is to estimate the mean income in California in the year 2019 among employed individuals. The same data is used in the notebook [```census_income.ipynb```](https://github.com/aangelopoulos/ppi_py/blob/main/examples/census_income.ipynb).\n",
    "\n",
    "1. V. Vovk, A. Gammerman, G. Shafer, Algorithmic Learning in a Random World. vol. 5 (New York: Springer, 2005). "
   ]
  },
  {
   "cell_type": "markdown",
   "id": "901edbcd",
   "metadata": {},
   "source": [
    "### Import necessary packages"
   ]
  },
  {
   "cell_type": "code",
   "execution_count": 1,
   "id": "4f57ecd3",
   "metadata": {},
   "outputs": [],
   "source": [
    "%load_ext autoreload\n",
    "%autoreload 2\n",
    "import os, sys\n",
    "\n",
    "sys.path.append(\n",
    "    os.path.abspath(os.path.join(os.getcwd(), os.pardir, os.pardir))\n",
    ")\n",
    "import numpy as np\n",
    "import pandas as pd\n",
    "from ppi_py.datasets import load_dataset\n",
    "from ppi_py import ppi_mean_ci, conformal_mean_ci\n",
    "from tqdm import tqdm\n",
    "from scipy.optimize import brentq\n",
    "from baseline_utils import *"
   ]
  },
  {
   "cell_type": "markdown",
   "id": "5cf90ae6",
   "metadata": {},
   "source": [
    "### Import the census income data set\n",
    "\n",
    "Load the data. The data set contains reported income (```Y```), predicted income (```Yhat```), and age and sex (```X```)."
   ]
  },
  {
   "cell_type": "code",
   "execution_count": 2,
   "id": "a6da3138",
   "metadata": {},
   "outputs": [],
   "source": [
    "dataset_folder = \"../data/\"\n",
    "data = load_dataset(dataset_folder, \"census_income\")\n",
    "Y_total = data[\"Y\"]\n",
    "Yhat_total = data[\"Yhat\"]\n",
    "X_total = data[\"X\"]"
   ]
  },
  {
   "cell_type": "markdown",
   "id": "8969f9db",
   "metadata": {},
   "source": [
    "### Problem setup\n",
    "\n",
    "Specify the error level (```alpha```), range of values for the labeled data set size (```ns```), and number of trials (```num_trials```).\n",
    "\n",
    "Compute the ground-truth value of the estimand."
   ]
  },
  {
   "cell_type": "code",
   "execution_count": 3,
   "id": "5b3c8f29",
   "metadata": {},
   "outputs": [],
   "source": [
    "alpha = 0.1\n",
    "n_total = Y_total.shape[0]  # Total number of labeled examples\n",
    "ns = np.linspace(50, 1000, 10).astype(\n",
    "    int\n",
    ")  # Test for different numbers of labeled examples\n",
    "num_trials = 50\n",
    "\n",
    "# True mean (computed on all labels)\n",
    "true_theta = Y_total.mean()"
   ]
  },
  {
   "cell_type": "markdown",
   "id": "83ce18be",
   "metadata": {},
   "source": [
    "### Construct intervals\n",
    "\n",
    "Form confidence intervals for all methods and problem parameters. A dataframe with the following columns is formed:\n",
    "1. ```method``` (one of ```PPI```, ```Classical```, and ```Baseline```, where ```Baseline``` is the conformal prediction baseline without a Bonferroni correction and ```Classical``` is the conformal prediction baseline with a Bonferroni correction)\n",
    "2. ```n``` (labeled data set size, takes values in ```ns```)\n",
    "3. ```lower``` (lower endpoint of the confidence interval)\n",
    "4. ```upper``` (upper endpoint of the confidence interval)\n",
    "5. ```trial``` (index of trial, goes from ```0``` to ```num_trials-1```)"
   ]
  },
  {
   "cell_type": "code",
   "execution_count": 4,
   "id": "812f8fd5",
   "metadata": {},
   "outputs": [
    {
     "name": "stderr",
     "output_type": "stream",
     "text": [
      "100%|█████████████████████████████████████████████████████████████████████████████████████████████████████████████████████████████████████████████████████████| 10/10 [00:08<00:00,  1.20it/s]\n"
     ]
    }
   ],
   "source": [
    "# Run prediction-powered inference and classical inference for many values of n\n",
    "results = []\n",
    "for i in tqdm(range(ns.shape[0])):\n",
    "    for j in range(num_trials):\n",
    "        # Prediction-Powered Inference\n",
    "        n = ns[i]\n",
    "        rand_idx = np.random.permutation(n_total)\n",
    "        _Yhat = Yhat_total[rand_idx[:n]]\n",
    "        _Y = Y_total[rand_idx[:n]]\n",
    "        _Yhat_unlabeled = Yhat_total[rand_idx[n:]]\n",
    "\n",
    "        # PPI interval\n",
    "        ppi_ci = ppi_mean_ci(_Y, _Yhat, _Yhat_unlabeled, alpha=alpha)\n",
    "\n",
    "        # Conformal interval + Bonferroni (valid)\n",
    "        conformal_ci_valid = conformal_mean_ci(\n",
    "            _Y, _Yhat, _Yhat_unlabeled, alpha=alpha, bonferroni=True\n",
    "        )\n",
    "\n",
    "        # Classical interval + no Bonferroni (invalid)\n",
    "        conformal_ci_heuristic = conformal_mean_ci(\n",
    "            _Y, _Yhat, _Yhat_unlabeled, alpha=alpha, bonferroni=False\n",
    "        )\n",
    "\n",
    "        # Append results\n",
    "        results += [\n",
    "            pd.DataFrame(\n",
    "                [\n",
    "                    {\n",
    "                        \"method\": \"PPI\",\n",
    "                        \"n\": n,\n",
    "                        \"lower\": ppi_ci[0],\n",
    "                        \"upper\": ppi_ci[1],\n",
    "                        \"trial\": j,\n",
    "                    }\n",
    "                ]\n",
    "            )\n",
    "        ]\n",
    "\n",
    "        results += [\n",
    "            pd.DataFrame(\n",
    "                [\n",
    "                    {\n",
    "                        \"method\": \"Baseline\",  # Conformal baseline (No Bonferroni)\n",
    "                        \"n\": n,\n",
    "                        \"lower\": conformal_ci_heuristic[0],\n",
    "                        \"upper\": conformal_ci_heuristic[1],\n",
    "                        \"trial\": j,\n",
    "                    }\n",
    "                ]\n",
    "            )\n",
    "        ]\n",
    "\n",
    "        results += [\n",
    "            pd.DataFrame(\n",
    "                [\n",
    "                    {\n",
    "                        \"method\": \"Classical\",  # Conformal baseline (Bonferroni) NB: just calling it \"Classical\" to reuse plotting\n",
    "                        \"n\": n,\n",
    "                        \"lower\": conformal_ci_valid[0],\n",
    "                        \"upper\": conformal_ci_valid[1],\n",
    "                        \"trial\": j,\n",
    "                    }\n",
    "                ]\n",
    "            )\n",
    "        ]\n",
    "\n",
    "\n",
    "df = pd.concat(results, axis=0, ignore_index=True)\n",
    "df[\"width\"] = df[\"upper\"] - df[\"lower\"]"
   ]
  },
  {
   "cell_type": "markdown",
   "id": "d15ba288",
   "metadata": {},
   "source": [
    "### Plot results\n",
    "\n",
    "Plot:\n",
    "1. Five randomly chosen intervals from the dataframe for PPI and the conformal baseline without a Bonferroni correction;\n",
    "2. The average interval width for PPI and the conformal baseline without a Bonferroni correction, together with a scatterplot of the widths from the five random draws.\n",
    "\n",
    "Note that the conformal intervals with a Bonferroni correction do not render, because they are all infinite. "
   ]
  },
  {
   "cell_type": "code",
   "execution_count": 5,
   "id": "6077b2c4",
   "metadata": {},
   "outputs": [
    {
     "data": {
      "image/png": "[encoded data removed]",
      "text/plain": [
       "<Figure size 432x216 with 2 Axes>"
      ]
     },
     "metadata": {
      "needs_background": "light"
     },
     "output_type": "display_data"
    }
   ],
   "source": [
    "make_plots(\n",
    "    df,\n",
    "    \"./plots/conformal_census_income.pdf\",\n",
    "    n_idx=-1,\n",
    "    intervals_xlabel=\"Income\",\n",
    "    true_theta=true_theta,\n",
    ")"
   ]
  }
 ],
 "metadata": {
  "kernelspec": {
   "display_name": "Python 3 (ipykernel)",
   "language": "python",
   "name": "python3"
  },
  "language_info": {
   "codemirror_mode": {
    "name": "ipython",
    "version": 3
   },
   "file_extension": ".py",
   "mimetype": "text/x-python",
   "name": "python",
   "nbconvert_exporter": "python",
   "pygments_lexer": "ipython3",
   "version": "3.8.15"
  }
 },
 "nbformat": 4,
 "nbformat_minor": 5
}
